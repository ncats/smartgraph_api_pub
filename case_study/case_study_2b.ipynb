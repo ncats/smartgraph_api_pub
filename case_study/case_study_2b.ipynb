{
 "cells": [
  {
   "cell_type": "code",
   "execution_count": 1,
   "id": "d6e41d65-2a01-412d-863b-d56040fa1ab0",
   "metadata": {},
   "outputs": [],
   "source": [
    "# Author: Gergely Zahoranszky-Kohalmi, PhD\n",
    "#\n",
    "# Organization: National Center for Advancing Translational Sciences (NCATS/NIH)\n",
    "#\n",
    "# Email: gergely.zahoranszky-kohalmi@nih.gov\n"
   ]
  },
  {
   "cell_type": "code",
   "execution_count": 2,
   "id": "695e3cbc-51cf-49fc-bd4b-dae346dcfcd7",
   "metadata": {},
   "outputs": [],
   "source": [
    "# Timer start\n",
    "import time\n",
    "start_time = time.perf_counter()"
   ]
  },
  {
   "cell_type": "code",
   "execution_count": 3,
   "id": "cf73ccab-b40b-41df-8df5-16aa136d9c1a",
   "metadata": {},
   "outputs": [],
   "source": [
    "import requests\n",
    "import json\n",
    "import pandas as pd\n",
    "import networkx as nx\n",
    "from sg import *\n",
    "import time\n",
    "\n"
   ]
  },
  {
   "cell_type": "code",
   "execution_count": 4,
   "id": "36d021b2-01e8-46a9-ba90-a32b441c9cd2",
   "metadata": {},
   "outputs": [],
   "source": [
    "# Config Section\n",
    "\n",
    "\n",
    "UNIPROT_PTGS2 = 'P35354'\n",
    "UNIPROT_CASP8 = 'Q14790'\n",
    "UNIPROT_XIAP = 'P98170'\n",
    "\n",
    "PPI_DISTANCE = 4\n",
    "SHORTEST_PATH = True\n",
    "\n",
    "DIRECTED_MODE = True\n",
    "\n",
    "\n",
    "\n",
    "CONFIDENCE_CUTOFF = 0\n",
    "\n"
   ]
  },
  {
   "cell_type": "code",
   "execution_count": 5,
   "id": "ad599cc6-32cf-4aa8-82bf-59630a2e0de1",
   "metadata": {},
   "outputs": [],
   "source": [
    "# Workflow Outline\n",
    "\n",
    "\n"
   ]
  },
  {
   "cell_type": "code",
   "execution_count": 6,
   "id": "6277392b-081e-482e-8dd0-299b128f2429",
   "metadata": {},
   "outputs": [],
   "source": [
    "def shortes_paths (start_uniprot_id, end_uniprot_id, shortest_paths_only, max_hops, mode, min_confidence):\n",
    "    \n",
    "    #urls = parse_urls (FILE_URLS)\n",
    "    url_sg = 'https://smartgraph.scb-ncats.io/api/path_regulatory'\n",
    "    \n",
    "    headers = {'Content-Type': 'application/json', 'accept': 'application/json'}\n",
    "    \n",
    "    cargo = {\n",
    "              \"source_uniprot_ids\": [\n",
    "                start_uniprot_id\n",
    "              ],\n",
    "              \"target_uniprot_ids\": [\n",
    "                end_uniprot_id\n",
    "              ],\n",
    "              \"shortest_paths\": shortest_paths_only,\n",
    "              \"max_length\": max_hops,\n",
    "              \"confidence_cutoff\": min_confidence,\n",
    "              \"directed\": mode\n",
    "            }\n",
    "\n",
    "\n",
    "    \n",
    "    print ()\n",
    "    print (\"[->] SmartGraph shortest path analysis started ..\")\n",
    "    print ()\n",
    "    \n",
    "    try:\n",
    "        api_response = requests.post(url = url_sg, data=json.dumps(cargo), headers = headers)\n",
    "    \n",
    "        result = api_response.json()\n",
    "    except:\n",
    "        raise Exception (\"[ERROR] Something went wrong when calling SmartGraph endpoint.\")\n",
    "    \n",
    "    print (\"[*] .. SmartGraph shortest path analysis done.\")\n",
    "    print()\n",
    "    print()\n",
    "    \n",
    "    return (result)\n",
    "\n",
    "\n",
    "\n",
    "def get_target_nodes (G):\n",
    "    targets = []\n",
    "    for n, n_attr in G.nodes(data = True):\n",
    "        if n_attr['node_type'] == 'target':\n",
    "            targets.append (n)\n",
    "\n",
    "    targets = list(set(targets))\n",
    "    \n",
    "    return (targets)"
   ]
  },
  {
   "cell_type": "code",
   "execution_count": 7,
   "id": "ee743808-4918-43c1-b143-43a620ec457e",
   "metadata": {},
   "outputs": [
    {
     "name": "stdout",
     "output_type": "stream",
     "text": [
      "\n",
      "[->] SmartGraph shortest path analysis started ..\n",
      "\n",
      "[*] .. SmartGraph shortest path analysis done.\n",
      "\n",
      "\n",
      "DiGraph with 5 nodes and 4 edges\n",
      "Network created with SUID: 1296937\n",
      "Network view created.\n",
      "Existing styles: ['size_rank', 'Gradient1', 'Directed', 'Curved', 'Universe', 'Sample1', 'BioPAX_SIF_0', 'Big Labels', 'Solid', 'Sample3', 'default black', 'BioPAX_0', 'default', 'Minimal', 'Sample2', 'BioPAX', 'Marquee', 'Ripple', 'SynGPS', 'BioPAX_SIF', 'SynGPS API', 'Nested Network Style']\n",
      "Creating new style 'SmartGraph API'.\n",
      "New style 'SmartGraph API' created.\n",
      "Style 'SmartGraph API' applied to the network.\n",
      "Layout 'grid' applied to the network.\n",
      "\n",
      "[->] SmartGraph shortest path analysis started ..\n",
      "\n",
      "[*] .. SmartGraph shortest path analysis done.\n",
      "\n",
      "\n",
      "DiGraph with 4 nodes and 3 edges\n",
      "Network created with SUID: 1297159\n",
      "Network view created.\n",
      "Existing styles: ['size_rank', 'Gradient1', 'Directed', 'Curved', 'Universe', 'Sample1', 'SmartGraph API', 'BioPAX_SIF_0', 'Big Labels', 'Solid', 'Sample3', 'default black', 'BioPAX_0', 'default', 'Minimal', 'Sample2', 'BioPAX', 'Marquee', 'Ripple', 'SynGPS', 'BioPAX_SIF', 'SynGPS API', 'Nested Network Style']\n",
      "Creating new style 'SmartGraph API'.\n",
      "New style 'SmartGraph API' created.\n",
      "Style 'SmartGraph API' applied to the network.\n",
      "Layout 'grid' applied to the network.\n"
     ]
    }
   ],
   "source": [
    "# Step 1\n",
    "\n",
    "\n",
    "# 1. Predict molecule COX-2 (PTGS2) UniprotID: P35354\n",
    "\n",
    "\n",
    "sg_json = shortes_paths (UNIPROT_XIAP, UNIPROT_CASP8, SHORTEST_PATH, PPI_DISTANCE, DIRECTED_MODE, CONFIDENCE_CUTOFF)\n",
    "\n",
    "G = sg_json2graph (sg_json)\n",
    "\n",
    "cy_json = graph2cyjs (G)\n",
    "\n",
    "visualize_in_cytoscape (cy_json)\n",
    "\n",
    "\n",
    "\n",
    "sg_json = shortes_paths (UNIPROT_PTGS2, UNIPROT_CASP8, SHORTEST_PATH, PPI_DISTANCE, DIRECTED_MODE, CONFIDENCE_CUTOFF)\n",
    "\n",
    "G = sg_json2graph (sg_json)\n",
    "\n",
    "cy_json = graph2cyjs (G)\n",
    "\n",
    "visualize_in_cytoscape (cy_json)\n"
   ]
  },
  {
   "cell_type": "code",
   "execution_count": 8,
   "id": "257da679-a2fd-40c2-87cb-57df2222765f",
   "metadata": {},
   "outputs": [
    {
     "name": "stdout",
     "output_type": "stream",
     "text": [
      "[*] Workflow duration: 1.3 sec\n"
     ]
    }
   ],
   "source": [
    "# Timer Stop\n",
    "end_time = time.perf_counter()\n",
    "duration = end_time - start_time\n",
    "print(f'[*] Workflow duration: {duration:.1f} sec')\n",
    "\n"
   ]
  },
  {
   "cell_type": "code",
   "execution_count": 9,
   "id": "3298e19d-a8fc-49d6-8572-69da0ebbd838",
   "metadata": {},
   "outputs": [],
   "source": [
    "# Ref: https://www.freecodecamp.org/news/loading-a-json-file-in-python-how-to-read-and-parse-json/\n",
    "# Ref: https://networkx.org/documentation/stable/reference/readwrite/generated/networkx.readwrite.json_graph.cytoscape_data.html#networkx.readwrite.json_graph.cytoscape_data\n",
    "# Ref: https://networkx.org/documentation/stable/reference/readwrite/generated/networkx.readwrite.json_graph.cytoscape_graph.html\n",
    "# Ref: https://groups.google.com/g/cytoscape-helpdesk/c/keumGM-bwz0\n",
    "# Ref: https://networkx.org/documentation/networkx-1.9/reference/generated/networkx.readwrite.graphml.write_graphml.html\n",
    "# Ref: https://github.com/cytoscape/copycat-layout/blob/master/notebooks/Copycat%20Automation%20Example.ipynb\n",
    "# Ref: ChatGPT 4.0 [https://chat.openai.com]\n",
    "# Ref: https://www.geeksforgeeks.org/python-map-function/\n",
    "# Ref: https://stackoverflow.com/questions/24898797/check-if-key-exists-and-iterate-the-json-array-using-python\n",
    "# Ref: https://htmlcolorcodes.com/colors/brick-red/\n",
    "# Ref: https://stackoverflow.com/questions/32652149/combine-join-networkx-graphs\n",
    "# Ref: https://networkx.org/documentation/stable/reference/classes/generated/networkx.Graph.copy.html\n",
    "# Ref: https://www.w3schools.com/python/ref_requests_get.asp\n",
    "# Ref: https://builtin.com/articles/timing-functions-python\n",
    "\n",
    "\n"
   ]
  }
 ],
 "metadata": {
  "kernelspec": {
   "display_name": "Python 3 (ipykernel)",
   "language": "python",
   "name": "python3"
  },
  "language_info": {
   "codemirror_mode": {
    "name": "ipython",
    "version": 3
   },
   "file_extension": ".py",
   "mimetype": "text/x-python",
   "name": "python",
   "nbconvert_exporter": "python",
   "pygments_lexer": "ipython3",
   "version": "3.11.9"
  }
 },
 "nbformat": 4,
 "nbformat_minor": 5
}
